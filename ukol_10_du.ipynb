{
 "cells": [
  {
   "cell_type": "code",
   "execution_count": 2,
   "metadata": {},
   "outputs": [],
   "source": [
    "import pandas \n",
    "zam_praha = pandas.read_csv(\"https://raw.githubusercontent.com/lutydlitatova/python-jaro-2022/main/ukoly/data/zam_praha.csv\").dropna()\n",
    "zam_plzen = pandas.read_csv(\"https://raw.githubusercontent.com/lutydlitatova/python-jaro-2022/main/ukoly/data/zam_plze%C5%88.csv\").dropna()\n",
    "zam_liberec = pandas.read_csv(\"https://raw.githubusercontent.com/lutydlitatova/python-jaro-2022/main/ukoly/data/zam_liberec.csv\").dropna()\n",
    "\n",
    "\n",
    "\n"
   ]
  },
  {
   "cell_type": "code",
   "execution_count": 3,
   "metadata": {},
   "outputs": [
    {
     "data": {
      "text/html": [
       "<div>\n",
       "<style scoped>\n",
       "    .dataframe tbody tr th:only-of-type {\n",
       "        vertical-align: middle;\n",
       "    }\n",
       "\n",
       "    .dataframe tbody tr th {\n",
       "        vertical-align: top;\n",
       "    }\n",
       "\n",
       "    .dataframe thead th {\n",
       "        text-align: right;\n",
       "    }\n",
       "</style>\n",
       "<table border=\"1\" class=\"dataframe\">\n",
       "  <thead>\n",
       "    <tr style=\"text-align: right;\">\n",
       "      <th></th>\n",
       "      <th>jmeno</th>\n",
       "      <th>prijimeni</th>\n",
       "      <th>telefonni_cislo</th>\n",
       "      <th>cislo_zamestnance</th>\n",
       "      <th>mesto</th>\n",
       "    </tr>\n",
       "  </thead>\n",
       "  <tbody>\n",
       "    <tr>\n",
       "      <th>0</th>\n",
       "      <td>Brian</td>\n",
       "      <td>Hall</td>\n",
       "      <td>+421 949 656 098</td>\n",
       "      <td>30</td>\n",
       "      <td>Praha</td>\n",
       "    </tr>\n",
       "    <tr>\n",
       "      <th>1</th>\n",
       "      <td>Marta</td>\n",
       "      <td>Kolářová</td>\n",
       "      <td>730 456 163</td>\n",
       "      <td>32</td>\n",
       "      <td>Praha</td>\n",
       "    </tr>\n",
       "    <tr>\n",
       "      <th>2</th>\n",
       "      <td>John</td>\n",
       "      <td>Moravec</td>\n",
       "      <td>725 092 179</td>\n",
       "      <td>33</td>\n",
       "      <td>Praha</td>\n",
       "    </tr>\n",
       "    <tr>\n",
       "      <th>3</th>\n",
       "      <td>Dominika</td>\n",
       "      <td>Kopecká</td>\n",
       "      <td>722 747 626</td>\n",
       "      <td>34</td>\n",
       "      <td>Praha</td>\n",
       "    </tr>\n",
       "    <tr>\n",
       "      <th>4</th>\n",
       "      <td>Marcel</td>\n",
       "      <td>Hájek</td>\n",
       "      <td>+421 902 928 669</td>\n",
       "      <td>35</td>\n",
       "      <td>Praha</td>\n",
       "    </tr>\n",
       "  </tbody>\n",
       "</table>\n",
       "</div>"
      ],
      "text/plain": [
       "      jmeno prijimeni   telefonni_cislo  cislo_zamestnance  mesto\n",
       "0     Brian      Hall  +421 949 656 098                 30  Praha\n",
       "1     Marta  Kolářová       730 456 163                 32  Praha\n",
       "2      John   Moravec       725 092 179                 33  Praha\n",
       "3  Dominika   Kopecká       722 747 626                 34  Praha\n",
       "4    Marcel     Hájek  +421 902 928 669                 35  Praha"
      ]
     },
     "execution_count": 3,
     "metadata": {},
     "output_type": "execute_result"
    }
   ],
   "source": [
    "zam_praha[\"mesto\"] = \"Praha\"\n",
    "zam_plzen[\"mesto\"] = \"Plzeň\"\n",
    "zam_liberec[\"mesto\"] = \"Liberec\"\n",
    "zam_praha.head()\n"
   ]
  },
  {
   "cell_type": "code",
   "execution_count": 5,
   "metadata": {},
   "outputs": [
    {
     "data": {
      "text/html": [
       "<div>\n",
       "<style scoped>\n",
       "    .dataframe tbody tr th:only-of-type {\n",
       "        vertical-align: middle;\n",
       "    }\n",
       "\n",
       "    .dataframe tbody tr th {\n",
       "        vertical-align: top;\n",
       "    }\n",
       "\n",
       "    .dataframe thead th {\n",
       "        text-align: right;\n",
       "    }\n",
       "</style>\n",
       "<table border=\"1\" class=\"dataframe\">\n",
       "  <thead>\n",
       "    <tr style=\"text-align: right;\">\n",
       "      <th></th>\n",
       "      <th>jmeno</th>\n",
       "      <th>prijimeni</th>\n",
       "      <th>telefonni_cislo</th>\n",
       "      <th>cislo_zamestnance</th>\n",
       "      <th>mesto</th>\n",
       "    </tr>\n",
       "  </thead>\n",
       "  <tbody>\n",
       "    <tr>\n",
       "      <th>0</th>\n",
       "      <td>Brian</td>\n",
       "      <td>Hall</td>\n",
       "      <td>+421 949 656 098</td>\n",
       "      <td>30</td>\n",
       "      <td>Praha</td>\n",
       "    </tr>\n",
       "    <tr>\n",
       "      <th>1</th>\n",
       "      <td>Marta</td>\n",
       "      <td>Kolářová</td>\n",
       "      <td>730 456 163</td>\n",
       "      <td>32</td>\n",
       "      <td>Praha</td>\n",
       "    </tr>\n",
       "    <tr>\n",
       "      <th>2</th>\n",
       "      <td>John</td>\n",
       "      <td>Moravec</td>\n",
       "      <td>725 092 179</td>\n",
       "      <td>33</td>\n",
       "      <td>Praha</td>\n",
       "    </tr>\n",
       "    <tr>\n",
       "      <th>3</th>\n",
       "      <td>Dominika</td>\n",
       "      <td>Kopecká</td>\n",
       "      <td>722 747 626</td>\n",
       "      <td>34</td>\n",
       "      <td>Praha</td>\n",
       "    </tr>\n",
       "    <tr>\n",
       "      <th>4</th>\n",
       "      <td>Marcel</td>\n",
       "      <td>Hájek</td>\n",
       "      <td>+421 902 928 669</td>\n",
       "      <td>35</td>\n",
       "      <td>Praha</td>\n",
       "    </tr>\n",
       "  </tbody>\n",
       "</table>\n",
       "</div>"
      ],
      "text/plain": [
       "      jmeno prijimeni   telefonni_cislo  cislo_zamestnance  mesto\n",
       "0     Brian      Hall  +421 949 656 098                 30  Praha\n",
       "1     Marta  Kolářová       730 456 163                 32  Praha\n",
       "2      John   Moravec       725 092 179                 33  Praha\n",
       "3  Dominika   Kopecká       722 747 626                 34  Praha\n",
       "4    Marcel     Hájek  +421 902 928 669                 35  Praha"
      ]
     },
     "execution_count": 5,
     "metadata": {},
     "output_type": "execute_result"
    }
   ],
   "source": [
    "zamestnanci = pandas.concat([zam_praha, zam_plzen, zam_liberec])\n",
    "zamestnanci = zamestnanci.reset_index(drop=True)\n",
    "zamestnanci.head()"
   ]
  },
  {
   "cell_type": "code",
   "execution_count": 6,
   "metadata": {},
   "outputs": [
    {
     "data": {
      "text/html": [
       "<div>\n",
       "<style scoped>\n",
       "    .dataframe tbody tr th:only-of-type {\n",
       "        vertical-align: middle;\n",
       "    }\n",
       "\n",
       "    .dataframe tbody tr th {\n",
       "        vertical-align: top;\n",
       "    }\n",
       "\n",
       "    .dataframe thead th {\n",
       "        text-align: right;\n",
       "    }\n",
       "</style>\n",
       "<table border=\"1\" class=\"dataframe\">\n",
       "  <thead>\n",
       "    <tr style=\"text-align: right;\">\n",
       "      <th></th>\n",
       "      <th>cislo_zamestnance</th>\n",
       "      <th>plat</th>\n",
       "    </tr>\n",
       "  </thead>\n",
       "  <tbody>\n",
       "    <tr>\n",
       "      <th>0</th>\n",
       "      <td>3</td>\n",
       "      <td>54900.0</td>\n",
       "    </tr>\n",
       "    <tr>\n",
       "      <th>1</th>\n",
       "      <td>6</td>\n",
       "      <td>54800.0</td>\n",
       "    </tr>\n",
       "    <tr>\n",
       "      <th>2</th>\n",
       "      <td>7</td>\n",
       "      <td>36400.0</td>\n",
       "    </tr>\n",
       "    <tr>\n",
       "      <th>3</th>\n",
       "      <td>8</td>\n",
       "      <td>47900.0</td>\n",
       "    </tr>\n",
       "    <tr>\n",
       "      <th>4</th>\n",
       "      <td>16</td>\n",
       "      <td>34200.0</td>\n",
       "    </tr>\n",
       "  </tbody>\n",
       "</table>\n",
       "</div>"
      ],
      "text/plain": [
       "   cislo_zamestnance     plat\n",
       "0                  3  54900.0\n",
       "1                  6  54800.0\n",
       "2                  7  36400.0\n",
       "3                  8  47900.0\n",
       "4                 16  34200.0"
      ]
     },
     "execution_count": 6,
     "metadata": {},
     "output_type": "execute_result"
    }
   ],
   "source": [
    "platy = pandas.read_csv(\"https://raw.githubusercontent.com/lutydlitatova/python-jaro-2022/main/ukoly/data/platy_2021_02.csv\")\n",
    "platy.head()"
   ]
  },
  {
   "cell_type": "code",
   "execution_count": 7,
   "metadata": {},
   "outputs": [
    {
     "data": {
      "text/plain": [
       "(43, 6)"
      ]
     },
     "execution_count": 7,
     "metadata": {},
     "output_type": "execute_result"
    }
   ],
   "source": [
    "platy_zamestnanci = pandas.merge(platy, zamestnanci, on =\"cislo_zamestnance\")\n",
    "platy_zamestnanci.shape"
   ]
  },
  {
   "cell_type": "code",
   "execution_count": 8,
   "metadata": {},
   "outputs": [
    {
     "data": {
      "text/plain": [
       "(56, 5)"
      ]
     },
     "execution_count": 8,
     "metadata": {},
     "output_type": "execute_result"
    }
   ],
   "source": [
    "zamestnanci.shape"
   ]
  },
  {
   "cell_type": "code",
   "execution_count": 9,
   "metadata": {},
   "outputs": [
    {
     "data": {
      "text/plain": [
       "(43, 2)"
      ]
     },
     "execution_count": 9,
     "metadata": {},
     "output_type": "execute_result"
    }
   ],
   "source": [
    "platy.shape"
   ]
  },
  {
   "cell_type": "code",
   "execution_count": 10,
   "metadata": {},
   "outputs": [
    {
     "data": {
      "text/plain": [
       "mesto\n",
       "Liberec    43775.000000\n",
       "Plzeň      44792.857143\n",
       "Praha      43295.238095\n",
       "Name: plat, dtype: float64"
      ]
     },
     "execution_count": 10,
     "metadata": {},
     "output_type": "execute_result"
    }
   ],
   "source": [
    "platy_zamestnanci.groupby(\"mesto\")[\"plat\"].mean()"
   ]
  },
  {
   "cell_type": "code",
   "execution_count": 4,
   "metadata": {},
   "outputs": [
    {
     "data": {
      "text/html": [
       "<div>\n",
       "<style scoped>\n",
       "    .dataframe tbody tr th:only-of-type {\n",
       "        vertical-align: middle;\n",
       "    }\n",
       "\n",
       "    .dataframe tbody tr th {\n",
       "        vertical-align: top;\n",
       "    }\n",
       "\n",
       "    .dataframe thead th {\n",
       "        text-align: right;\n",
       "    }\n",
       "</style>\n",
       "<table border=\"1\" class=\"dataframe\">\n",
       "  <thead>\n",
       "    <tr style=\"text-align: right;\">\n",
       "      <th></th>\n",
       "      <th>date</th>\n",
       "      <th>hours</th>\n",
       "      <th>project</th>\n",
       "      <th>emloyee_id</th>\n",
       "    </tr>\n",
       "  </thead>\n",
       "  <tbody>\n",
       "    <tr>\n",
       "      <th>0</th>\n",
       "      <td>2021-02-01</td>\n",
       "      <td>2.5</td>\n",
       "      <td>F30</td>\n",
       "      <td>13</td>\n",
       "    </tr>\n",
       "    <tr>\n",
       "      <th>1</th>\n",
       "      <td>2021-02-01</td>\n",
       "      <td>3.4</td>\n",
       "      <td>W05</td>\n",
       "      <td>70</td>\n",
       "    </tr>\n",
       "    <tr>\n",
       "      <th>2</th>\n",
       "      <td>2021-02-01</td>\n",
       "      <td>2.1</td>\n",
       "      <td>JL9</td>\n",
       "      <td>72</td>\n",
       "    </tr>\n",
       "    <tr>\n",
       "      <th>3</th>\n",
       "      <td>2021-02-01</td>\n",
       "      <td>5.2</td>\n",
       "      <td>F30</td>\n",
       "      <td>3</td>\n",
       "    </tr>\n",
       "    <tr>\n",
       "      <th>4</th>\n",
       "      <td>2021-02-01</td>\n",
       "      <td>2.4</td>\n",
       "      <td>TE1</td>\n",
       "      <td>54</td>\n",
       "    </tr>\n",
       "  </tbody>\n",
       "</table>\n",
       "</div>"
      ],
      "text/plain": [
       "         date  hours project  emloyee_id\n",
       "0  2021-02-01    2.5     F30          13\n",
       "1  2021-02-01    3.4     W05          70\n",
       "2  2021-02-01    2.1     JL9          72\n",
       "3  2021-02-01    5.2     F30           3\n",
       "4  2021-02-01    2.4     TE1          54"
      ]
     },
     "execution_count": 4,
     "metadata": {},
     "output_type": "execute_result"
    }
   ],
   "source": [
    "import pandas\n",
    "vykazy = pandas.read_csv(\"vykazy.csv\")\n",
    "vykazy.head()"
   ]
  },
  {
   "cell_type": "code",
   "execution_count": 5,
   "metadata": {},
   "outputs": [
    {
     "data": {
      "text/plain": [
       "project\n",
       "F30    21.5\n",
       "JL9     2.1\n",
       "TE1    16.0\n",
       "W05    30.5\n",
       "YLI    31.0\n",
       "Name: hours, dtype: float64"
      ]
     },
     "execution_count": 5,
     "metadata": {},
     "output_type": "execute_result"
    }
   ],
   "source": [
    "vykazy.groupby('project')['hours'].sum()"
   ]
  }
 ],
 "metadata": {
  "kernelspec": {
   "display_name": "Python 3",
   "language": "python",
   "name": "python3"
  },
  "language_info": {
   "codemirror_mode": {
    "name": "ipython",
    "version": 3
   },
   "file_extension": ".py",
   "mimetype": "text/x-python",
   "name": "python",
   "nbconvert_exporter": "python",
   "pygments_lexer": "ipython3",
   "version": "3.9.10"
  }
 },
 "nbformat": 4,
 "nbformat_minor": 2
}
